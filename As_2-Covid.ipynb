{
 "cells": [
  {
   "cell_type": "code",
   "execution_count": 13,
   "metadata": {},
   "outputs": [
    {
     "name": "stdin",
     "output_type": "stream",
     "text": [
      "Are you a cigarette addict older than 75 years old? : (Yes or No) no\n",
      "Do you have a severe chronic disease? : (Yes or No) no\n",
      "Is your immune system too weak? : (Yes or No) yes\n"
     ]
    },
    {
     "name": "stdout",
     "output_type": "stream",
     "text": [
      "False\n",
      "False\n",
      "True\n",
      "You are in risky group\n"
     ]
    }
   ],
   "source": [
    "age =  input(\"Are you a cigarette addict older than 75 years old? : (Yes or No)\").title().strip() == \"Yes\" # can be assigned only True/False\n",
    "chronic = input(\"Do you have a severe chronic disease? : (Yes or No)\").title().strip() == \"Yes\" # can be assigned only True/False\n",
    "immune = input(\"Is your immune system too weak? : (Yes or No)\").title().strip() == \"Yes\" # can be assigned only True/False\n",
    "print(age)\n",
    "print(chronic)\n",
    "print(immune)\n",
    "\n",
    "if age or chronic or immune :\n",
    "    print(\"You are in risky group\")\n",
    "else:\n",
    "    print(\"You are not in risky group\")\n",
    "\n",
    "# \"You are in risky group\"(if True ) or \"You are not in risky group\" (if False)."
   ]
  },
  {
   "cell_type": "code",
   "execution_count": 8,
   "metadata": {},
   "outputs": [
    {
     "data": {
      "text/plain": [
       "str"
      ]
     },
     "execution_count": 8,
     "metadata": {},
     "output_type": "execute_result"
    }
   ],
   "source": [
    "type(\"no\".)\n"
   ]
  },
  {
   "cell_type": "code",
   "execution_count": 14,
   "metadata": {},
   "outputs": [
    {
     "name": "stdin",
     "output_type": "stream",
     "text": [
      "Are you cigaratte addict older than 75 years old? (Yes/No)  no\n",
      "Do you have a severe chronic disease? : (Yes/No)  yes\n",
      "Is your immune system too weak? : (Yes/No)  no\n"
     ]
    },
    {
     "name": "stdout",
     "output_type": "stream",
     "text": [
      "age answer: False \n",
      "chronic answer: True \n",
      "immune answer: False\n",
      "You are in the risky group\n"
     ]
    }
   ],
   "source": [
    "age = input(\"Are you cigaratte addict older than 75 years old? (Yes/No) \").title().strip() == \"Yes\"\n",
    "chronic = input(\"Do you have a severe chronic disease? : (Yes/No) \").title().strip() == \"Yes\"\n",
    "immune = input(\"Is your immune system too weak? : (Yes/No) \").title().strip() == \"Yes\"\n",
    "print(\"age answer:\", age, \"\\nchronic answer:\", chronic, \"\\nimmune answer:\", immune)\n",
    "if age or chronic or immune :\n",
    "    print(\"You are in the risky group\")\n",
    "else :\n",
    "    print(\"You are not in the risky group\")"
   ]
  },
  {
   "cell_type": "code",
   "execution_count": 18,
   "metadata": {},
   "outputs": [
    {
     "name": "stdout",
     "output_type": "stream",
     "text": [
      "True\n"
     ]
    }
   ],
   "source": [
    "x = \"yes\"\n",
    "\n",
    "print(\"yes\" == x)"
   ]
  },
  {
   "cell_type": "code",
   "execution_count": null,
   "metadata": {},
   "outputs": [],
   "source": []
  }
 ],
 "metadata": {
  "kernelspec": {
   "display_name": "Python 3",
   "language": "python",
   "name": "python3"
  },
  "language_info": {
   "codemirror_mode": {
    "name": "ipython",
    "version": 3
   },
   "file_extension": ".py",
   "mimetype": "text/x-python",
   "name": "python",
   "nbconvert_exporter": "python",
   "pygments_lexer": "ipython3",
   "version": "3.7.6"
  }
 },
 "nbformat": 4,
 "nbformat_minor": 4
}
